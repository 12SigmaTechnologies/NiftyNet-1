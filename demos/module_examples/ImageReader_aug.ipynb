{
 "cells": [
  {
   "cell_type": "markdown",
   "metadata": {},
   "source": [
    "This demo provides examples of `ImageReader` class from `niftynet.io.image_reader` module.\n",
    "\n",
    "What is `ImageReader`?\n",
    "\n",
    "The main functionality of `ImageReader` is to search a set of folders, return a list of image files, and load the images into memory in an iterative manner.\n",
    "\n",
    "A `tf.data.Dataset` instance can be initialised from an `ImageReader`, this makes the module readily usable as an input op to many tensorflow-based applications.\n",
    "\n",
    "Why `ImageReader`?\n",
    "\n",
    " - designed for medical imaging formats and applications \n",
    " - works well with multi-modal input volumes\n",
    " - works well with `tf.data.Dataset`"
   ]
  },
  {
   "cell_type": "markdown",
   "metadata": {},
   "source": [
    "## Before the demo..."
   ]
  },
  {
   "cell_type": "markdown",
   "metadata": {},
   "source": [
    "First make sure the source code is available, and import the module.\n",
    "\n",
    "For NiftyNet installation, please checkout:\n",
    "\n",
    "http://niftynet.readthedocs.io/en/dev/installation.html"
   ]
  },
  {
   "cell_type": "code",
   "execution_count": 2,
   "metadata": {},
   "outputs": [
    {
     "name": "stdout",
     "output_type": "stream",
     "text": [
      "INFO:tensorflow:TensorFlow version 1.10.0\n",
      "CRITICAL:tensorflow:Optional Python module cv2 not found, please install cv2 and retry if the application fails.\n",
      "CRITICAL:tensorflow:Optional Python module skimage.io not found, please install skimage.io and retry if the application fails.\n",
      "INFO:tensorflow:Available Image Loaders:\n",
      "['nibabel', 'pillow', 'simpleitk', 'dummy'].\n",
      "\u001b[1mINFO:niftynet:\u001b[0m Optional Python module yaml not found, please install yaml and retry if the application fails.\n",
      "\u001b[1mINFO:niftynet:\u001b[0m Optional Python module yaml version None not found, please install yaml-None and retry if the application fails.\n",
      "ssssitk <module 'SimpleITK' from '/home/weiwei/niftyEnv/lib/python3.5/site-packages/SimpleITK/__init__.py'>\n"
     ]
    }
   ],
   "source": [
    "import sys\n",
    "niftynet_path = '/data/weiwei/github/NiftyNet-1//'\n",
    "sys.path.insert(0, niftynet_path)\n",
    "\n",
    "from niftynet.io.image_reader import ImageReader"
   ]
  },
  {
   "cell_type": "markdown",
   "metadata": {},
   "source": [
    "For demonstration purpose we download some demo data to `~/niftynet/data/`:"
   ]
  },
  {
   "cell_type": "code",
   "execution_count": null,
   "metadata": {},
   "outputs": [],
   "source": [
    "from niftynet.utilities.download import download\n",
    "download('anisotropic_nets_brats_challenge_model_zoo_data')"
   ]
  },
  {
   "cell_type": "markdown",
   "metadata": {},
   "source": [
    "## Use case: loading 3D volumes"
   ]
  },
  {
   "cell_type": "code",
   "execution_count": null,
   "metadata": {},
   "outputs": [],
   "source": [
    "from niftynet.io.image_reader import ImageReader\n",
    "\n",
    "data_param = {'nii': {'path_to_search': '/data/weiwei/lobe_label_withLungMaskCoord/','filename_contains': 'label'}}\n",
    "reader = ImageReader().initialise(data_param)"
   ]
  },
  {
   "cell_type": "code",
   "execution_count": null,
   "metadata": {},
   "outputs": [],
   "source": [
    "reader.shapes, reader.tf_dtypes"
   ]
  },
  {
   "cell_type": "code",
   "execution_count": null,
   "metadata": {},
   "outputs": [],
   "source": [
    "# read data using the initialised reader\n",
    "idx, image_data, interp_order = reader(idx=0)"
   ]
  },
  {
   "cell_type": "code",
   "execution_count": null,
   "metadata": {},
   "outputs": [],
   "source": [
    "image_data['MR'].shape, image_data['MR'].dtype"
   ]
  },
  {
   "cell_type": "code",
   "execution_count": null,
   "metadata": {},
   "outputs": [],
   "source": [
    "# randomly sample the list of images\n",
    "for _ in range(3):\n",
    "    idx, image_data, _ = reader()\n",
    "    print('{} image: {}'.format(idx, image_data['MR'].shape))"
   ]
  },
  {
   "cell_type": "markdown",
   "metadata": {},
   "source": [
    "The images are always read into a 5D-array, representing:\n",
    "\n",
    "`[height, width, depth, time, channels]`"
   ]
  },
  {
   "cell_type": "markdown",
   "metadata": {},
   "source": [
    "## User case: loading pairs of image and label by matching filenames\n",
    "(In this case the loaded arrays are not concatenated.)"
   ]
  },
  {
   "cell_type": "code",
   "execution_count": 6,
   "metadata": {},
   "outputs": [
    {
     "name": "stdout",
     "output_type": "stream",
     "text": [
      "debug:  {'label': {'filename_contains': '_label', 'path_to_search': '/data/weiwei/lobe_label_withLungMaskCoord/'}, 'image': {'filename_contains': '.intermediate.origVol', 'path_to_search': '/data/weiwei/norm_nii/'}}\n",
      "\u001b[1mINFO:niftynet:\u001b[0m \n",
      "\n",
      "Number of subjects 21, input section names: ['subject_id', 'label', 'image']\n",
      "-- using all subjects (without data partitioning).\n",
      "\n",
      "label\n",
      "image\n",
      "\u001b[1mINFO:niftynet:\u001b[0m Image reader: loading 21 subjects from sections ('label',) as input [label]\n",
      "\u001b[1mINFO:niftynet:\u001b[0m Image reader: loading 21 subjects from sections ('image',) as input [image]\n"
     ]
    }
   ],
   "source": [
    "from niftynet.io.image_reader import ImageReader\n",
    "\n",
    "data_param = {'image': {'path_to_search': '/data/weiwei/norm_nii/',\n",
    "                        'filename_contains': '.intermediate.origVol'},\n",
    "              'label': {'path_to_search': '/data/weiwei/lobe_label_withLungMaskCoord/',\n",
    "                        'filename_contains': '_label'}}\n",
    "reader = ImageReader().initialise(data_param)"
   ]
  },
  {
   "cell_type": "code",
   "execution_count": null,
   "metadata": {},
   "outputs": [],
   "source": [
    "# image file information (without loading the volumes)\n",
    "reader.get_subject(0)"
   ]
  },
  {
   "cell_type": "code",
   "execution_count": null,
   "metadata": {},
   "outputs": [],
   "source": [
    "idx, image_data, interp_order = reader(idx=1)\n",
    "\n",
    "image_data['image'].shape, image_data['label'].shape"
   ]
  },
  {
   "cell_type": "markdown",
   "metadata": {},
   "source": [
    "## User case: loading multiple modalities of image and label by matching filenames\n",
    "\n",
    "The following code initialises a reader with four modalities, and the `'image'` output is a concatenation of arrays loaded from these files. (The files are concatenated at the fifth dimension)"
   ]
  },
  {
   "cell_type": "code",
   "execution_count": null,
   "metadata": {},
   "outputs": [],
   "source": [
    "from niftynet.io.image_reader import ImageReader\n",
    "\n",
    "data_param = {'T1':    {'path_to_search': '~/niftynet/data/BRATS_examples/HGG',\n",
    "                        'filename_contains': 'T1', 'filename_not_contains': 'T1c'},\n",
    "              'T1c':   {'path_to_search': '~/niftynet/data/BRATS_examples/HGG',\n",
    "                        'filename_contains': 'T1c'},\n",
    "              'T2':    {'path_to_search': '~/niftynet/data/BRATS_examples/HGG',\n",
    "                        'filename_contains': 'T2'},\n",
    "              'Flair': {'path_to_search': '~/niftynet/data/BRATS_examples/HGG',\n",
    "                        'filename_contains': 'Flair'},\n",
    "              'label': {'path_to_search': '~/niftynet/data/BRATS_examples/HGG',\n",
    "                        'filename_contains': 'Label'}}\n",
    "grouping_param = {'image': ('T1', 'T1c', 'T2', 'Flair'), 'label':('label',)}\n",
    "reader = ImageReader().initialise(data_param, grouping_param)"
   ]
  },
  {
   "cell_type": "code",
   "execution_count": 8,
   "metadata": {},
   "outputs": [
    {
     "name": "stdout",
     "output_type": "stream",
     "text": [
      "(512, 512, 142, 1, 1) (512, 512, 142, 1, 1)\n"
     ]
    }
   ],
   "source": [
    "\n",
    "_, image_data, _ = reader(idx=0)\n",
    "print(image_data['image'].shape, image_data['label'].shape)"
   ]
  },
  {
   "cell_type": "code",
   "execution_count": null,
   "metadata": {},
   "outputs": [],
   "source": [
    "sitk = require_module('SimpleITK')"
   ]
  },
  {
   "cell_type": "markdown",
   "metadata": {},
   "source": [
    "## More properties\n",
    "The input specification supports additional properties include \n",
    "```python\n",
    "{'csv_file', 'path_to_search',\n",
    " 'filename_contains', 'filename_not_contains',\n",
    " 'interp_order', 'pixdim', 'axcodes', 'spatial_window_size',\n",
    " 'loader'}\n",
    "```\n",
    "see also: http://niftynet.readthedocs.io/en/dev/config_spec.html#input-data-source-section"
   ]
  },
  {
   "cell_type": "markdown",
   "metadata": {},
   "source": [
    "## Using ImageReader with image-level data augmentation layers"
   ]
  },
  {
   "cell_type": "code",
   "execution_count": null,
   "metadata": {},
   "outputs": [],
   "source": [
    "from niftynet.io.image_reader import ImageReader\n",
    "from niftynet.layer.rand_rotation import RandomRotationLayer as Rotate\n",
    "import matplotlib.pyplot as plt\n",
    "\n",
    "data_param = {'image': {'path_to_search': '/data/weiwei/norm_nii/',\n",
    "                        'filename_contains': '.intermediate.origVol'}}\n",
    "reader = ImageReader().initialise(data_param)\n",
    "\n",
    "##orig\n",
    "print('---orig---')\n",
    "_, image_orig, _ = reader(idx=0)\n",
    "print(image_orig['image'].shape)\n",
    "\n",
    "plt.imshow(image_orig['image'][:, :, 50, 0, 0])\n",
    "plt.show()\n",
    "\n",
    "##rotation\n",
    "print('---after rotation---')\n",
    "rotation_layer = Rotate()\n",
    "rotation_layer.init_uniform_angle([-10.0, 10.0])\n",
    "reader.add_preprocessing_layers([rotation_layer])\n",
    "\n",
    "_, image_data, _ = reader(idx=0)\n",
    "print(image_data['image'].shape)\n",
    "\n",
    "plt.imshow(image_data['image'][:, :, 50, 0, 0])\n",
    "plt.show()"
   ]
  },
  {
   "cell_type": "code",
   "execution_count": 195,
   "metadata": {},
   "outputs": [],
   "source": [
    "from niftynet.io.image_reader import ImageReader\n",
    "from niftynet.layer.rand_elastic_deform import RandomElasticDeformationLayer as Elastic\n",
    "from niftynet.layer.rand_rotation import RandomRotationLayer as Rotate\n",
    "from niftynet.layer.rand_spatial_scaling import RandomSpatialScalingLayer as scaling\n",
    "import matplotlib.pyplot as plt\n",
    "\n",
    "def create_image_reader(ifElastic, num_controlpoints, std_deformation_sigma, ifRotate,\n",
    "                        rotation_parm_list, ifScale, scaling_parm_list):\n",
    "    data_param = {'image': {'path_to_search': '/data/weiwei/norm_nii/',\n",
    "                        'filename_contains': '.intermediate.origVol',\n",
    "                           'interp_order' : 0},\n",
    "                 'label': {'path_to_search': '/data/weiwei/lobe_label_withLungMaskCoord/',\n",
    "                        'filename_contains': '_label',\n",
    "                          'interp_order' : 0}}\n",
    "    reader = ImageReader().initialise(data_param)\n",
    "    \n",
    "\n",
    "    #elastic deformation\n",
    "    if ifElastic: \n",
    "        reader.add_preprocessing_layers(Elastic(\n",
    "                             num_controlpoints=num_controlpoints,\n",
    "                             std_deformation_sigma=std_deformation_sigma,\n",
    "                             proportion_to_augment=1,\n",
    "                             spatial_rank=3)) \n",
    "    #rotate\n",
    "    if ifRotate:\n",
    "        rotation_layer = Rotate()\n",
    "        rotation_layer.init_uniform_angle(rotation_parm_list)\n",
    "        reader.add_preprocessing_layers([rotation_layer])\n",
    "    \n",
    "    #scaling\n",
    "    if ifScale:\n",
    "        reader.add_preprocessing_layers(scaling(\n",
    "                            min_percentage=scaling_parm_list[0],\n",
    "                            max_percentage=scaling_parm_list[1]))\n",
    "    return reader\n",
    "\n",
    "\n",
    "# f, axes = plt.subplots(5,4,figsize=(15,15))\n",
    "# f.suptitle('The same input image, deformed under varying $\\sigma$')\n",
    "\n",
    "# for i, axe in enumerate(axes): \n",
    "#     std_sigma = 10 * i\n",
    "#     reader = create_image_reader(6, std_sigma)\n",
    "#     for ax in axe: \n",
    "#         _, image_data, _ = reader(0)\n",
    "#         ax.imshow(image_data['image'][:, :, 50, 0, 0].squeeze(), cmap = 'gray')\n",
    "#         ax.imshow(image_data['label'][:, :, 50, 0, 0].squeeze(),cmap='jet', alpha=0.1)\n",
    "#         ax.set_xticks([])\n",
    "#         ax.set_yticks([])\n",
    "#         ax.set_title('Deformation Sigma = %i' % std_sigma)"
   ]
  },
  {
   "cell_type": "code",
   "execution_count": 202,
   "metadata": {},
   "outputs": [
    {
     "name": "stdout",
     "output_type": "stream",
     "text": [
      "debug:  {'label': {'filename_contains': '_label', 'interp_order': 0, 'path_to_search': '/data/weiwei/lobe_label_withLungMaskCoord/'}, 'image': {'filename_contains': '.intermediate.origVol', 'interp_order': 0, 'path_to_search': '/data/weiwei/norm_nii/'}}\n",
      "\u001b[1mINFO:niftynet:\u001b[0m \n",
      "\n",
      "Number of subjects 21, input section names: ['subject_id', 'label', 'image']\n",
      "-- using all subjects (without data partitioning).\n",
      "\n",
      "label\n",
      "image\n",
      "\u001b[1mINFO:niftynet:\u001b[0m Image reader: loading 21 subjects from sections ('label',) as input [label]\n",
      "\u001b[1mINFO:niftynet:\u001b[0m Image reader: loading 21 subjects from sections ('image',) as input [image]\n",
      "(539, 551, 157, 1, 1)\n"
     ]
    }
   ],
   "source": [
    "##save augmentation image\n",
    "\n",
    "import SimpleITK as sitk\n",
    "\n",
    "ifElastic = False\n",
    "ifRotate = False\n",
    "ifScale = True\n",
    "num_controlpoints = 6 \n",
    "std_deformation_sigma = 20\n",
    "rotation_parm_list = [-10, 10]\n",
    "scaling_parm_list = [-15, 15]\n",
    "\n",
    "reader = create_image_reader(ifElastic, num_controlpoints, std_deformation_sigma, \n",
    "                             ifRotate, rotation_parm_list, \n",
    "                             ifScale, scaling_parm_list)\n",
    "_, image_data, _ = reader(0)\n",
    "print(image_data['image'].shape)\n",
    "nii = image_data['image'][:,:,:,0,0]\n",
    "mask = image_data['label'][:,:,:,0,0]\n",
    "t_nii = np.swapaxes(nii, 0, 2)  #change z axis and x axis\n",
    "t_mask = np.swapaxes(mask, 0, 2)\n",
    "\n",
    "if ifScale:\n",
    "    t_nii_out = t_nii[:,::-1,:]\n",
    "    t_mask_out = t_mask[:,::-1,:]\n",
    "    image_out = sitk.GetImageFromArray(t_nii_out)\n",
    "    mask_out = sitk.GetImageFromArray(t_mask_out)\n",
    "    out_file_suffix = 'scale'+str(scaling_parm_list[1])\n",
    "else:\n",
    "    image_out = sitk.GetImageFromArray(t_nii)\n",
    "    mask_out = sitk.GetImageFromArray(t_mask)\n",
    "    orig_nii = sitk.ReadImage('/data/weiwei/norm_nii/20151228001310_EF61096ECC484A53AE11914FEE8D54CD_20151228154515.intermediate.origVol.nii')\n",
    "    image_out.CopyInformation(orig_nii)\n",
    "    mask_out.CopyInformation(orig_nii)\n",
    "    if (ifElastic and ifRotate):\n",
    "        out_file_suffix = 'elastic'+str(std_deformation_sigma)+'_rotate'+str(rotation_parm_list[1])\n",
    "    elif (ifElastic and not ifRotate):\n",
    "        out_file_suffix = 'rotate'+str(rotation_parm_list[1])\n",
    "    elif (not ifElastic and ifRotate):\n",
    "        out_file_suffix = 'elastic'+str(std_deformation_sigma)\n",
    "    \n",
    "sitk.WriteImage(image_out,  '/mnt/Data03/User/weiwei/lung_segments_classification/augmentation_interpolation_example/20151228001310_img_'+out_file_suffix+'.nii')\n",
    "sitk.WriteImage(mask_out,  '/mnt/Data03/User/weiwei/lung_segments_classification/augmentation_interpolation_example/20151228001310_label_'+out_file_suffix+'.nii')\n"
   ]
  },
  {
   "cell_type": "code",
   "execution_count": 168,
   "metadata": {},
   "outputs": [
    {
     "name": "stdout",
     "output_type": "stream",
     "text": [
      "debug:  {'label': {'filename_contains': '_label', 'interp_order': 0, 'spatial_window_size': (128, 128, 128), 'path_to_search': '/data/weiwei/lobe_label_withLungMaskCoord/'}, 'image': {'filename_contains': '.intermediate.origVol', 'interp_order': 0, 'spatial_window_size': (128, 128, 128), 'path_to_search': '/data/weiwei/norm_nii/'}}\n",
      "\u001b[1mINFO:niftynet:\u001b[0m \n",
      "\n",
      "Number of subjects 21, input section names: ['subject_id', 'label', 'image']\n",
      "-- using all subjects (without data partitioning).\n",
      "\n",
      "label\n",
      "image\n",
      "\u001b[1mINFO:niftynet:\u001b[0m Image reader: loading 21 subjects from sections ('label',) as input [label]\n",
      "\u001b[1mINFO:niftynet:\u001b[0m Image reader: loading 21 subjects from sections ('image',) as input [image]\n",
      "\u001b[1mINFO:niftynet:\u001b[0m reading size of preprocessed images\n",
      "\u001b[1mWARNING:niftynet:\u001b[0m sampler queue_length should be larger than batch_size, defaulting to batch_size * 5.0 (15).\n",
      "\u001b[1mINFO:niftynet:\u001b[0m initialised resize sampler {'label': (1, 128, 128, 128, 1, 1), 'image_location': (1, 7), 'label_location': (1, 7), 'image': (1, 128, 128, 128, 1, 1)} \n",
      "\u001b[1mINFO:niftynet:\u001b[0m Initialising Dataset from 21 subjects...\n",
      "[[  6   0   0   0 128 128 128]\n",
      " [ 17   0   0   0 128 128 128]\n",
      " [ 15   0   0   0 128 128 128]] (3, 128, 128, 128, 1)\n",
      "[[  6   0   0   0 128 128 128]\n",
      " [ 17   0   0   0 128 128 128]\n",
      " [ 15   0   0   0 128 128 128]] (3, 128, 128, 128, 1)\n"
     ]
    },
    {
     "data": {
      "image/png": "[encoded data removed]",
      "text/plain": [
       "<Figure size 432x288 with 2 Axes>"
      ]
     },
     "metadata": {
      "needs_background": "light"
     },
     "output_type": "display_data"
    }
   ],
   "source": [
    "### resize by NN interpolation\n",
    "\n",
    "import SimpleITK as sitk\n",
    "data_param =  {'image': {'path_to_search': '/data/weiwei/norm_nii/',\n",
    "                        'filename_contains': '.intermediate.origVol',\n",
    "                           'interp_order' : 0,\n",
    "                           'spatial_window_size': (128, 128, 128)},\n",
    "                 'label': {'path_to_search': '/data/weiwei/lobe_label_withLungMaskCoord/',\n",
    "                        'filename_contains': '_label',\n",
    "                          'interp_order' : 0,\n",
    "                          'spatial_window_size': (128, 128, 128)}}\n",
    "\n",
    "reader = ImageReader().initialise(data_param)\n",
    "window_sizes = {'image': (128, 128, 128), 'label': (128, 128, 128)}\n",
    "    \n",
    "# resize sampler returns windows of 32^3-voxels\n",
    "resize_sampler = ResizeSampler(reader, window_sizes, batch_size=3)\n",
    "\n",
    "import tensorflow as tf\n",
    "# adding the tensorflow tensors\n",
    "next_window = resize_sampler.pop_batch_op()\n",
    "\n",
    "# run the tensors\n",
    "with tf.Session() as sess:\n",
    "    resize_sampler.run_threads(sess) #initialise the iterator\n",
    "    windows = sess.run(next_window)\n",
    "    print(windows['image_location'], windows['image'].shape)\n",
    "    print(windows['label_location'], windows['label'].shape)\n",
    "\n",
    "\n",
    "import matplotlib.pyplot as plt\n",
    "plt.figure()\n",
    "plt.subplot(1,2,1)\n",
    "plt.imshow(windows['image'][1,:,:,50,0])\n",
    "plt.subplot(1,2,2)\n",
    "plt.imshow(windows['label'][1,:,:,50,0])\n",
    "plt.show()\n",
    "    \n",
    "\n",
    "nii = windows['image'][0,:,:,:,0]\n",
    "mask = windows['label'][0,:,:,:,0]\n",
    "\n",
    "t_nii = np.swapaxes(nii, 0, 2)  #change z axis and x axis\n",
    "t_mask = np.swapaxes(mask, 0, 2)\n",
    "t_nii_out = t_nii[:,::-1,:]\n",
    "t_mask_out = t_mask[:,::-1,:]\n",
    "image_out = sitk.GetImageFromArray(t_nii_out)\n",
    "mask_out = sitk.GetImageFromArray(t_mask_out)\n",
    "sitk.WriteImage(image_out,  '/mnt/Data03/User/weiwei/lung_segments_classification/augmentation_interpolation_example/20151228001310_img_interpNN_downsize128.nii')\n",
    "sitk.WriteImage(mask_out,  '/mnt/Data03/User/weiwei/lung_segments_classification/augmentation_interpolation_example/20151228001310_label_interpNN_downsize128.nii')\n"
   ]
  },
  {
   "cell_type": "markdown",
   "metadata": {},
   "source": [
    "## Using ImageReader with `tf.data.Dataset`"
   ]
  },
  {
   "cell_type": "code",
   "execution_count": null,
   "metadata": {},
   "outputs": [],
   "source": [
    "import tensorflow as tf\n",
    "from niftynet.io.image_reader import ImageReader\n",
    "\n",
    "# initialise multi-modal image and label reader\n",
    "data_param = {'T1':    {'path_to_search': '~/niftynet/data/BRATS_examples/HGG',\n",
    "                        'filename_contains': 'T1', 'filename_not_contains': 'T1c'},\n",
    "              'T1c':   {'path_to_search': '~/niftynet/data/BRATS_examples/HGG',\n",
    "                        'filename_contains': 'T1c'},\n",
    "              'T2':    {'path_to_search': '~/niftynet/data/BRATS_examples/HGG',\n",
    "                        'filename_contains': 'T2'},\n",
    "              'Flair': {'path_to_search': '~/niftynet/data/BRATS_examples/HGG',\n",
    "                        'filename_contains': 'Flair'},\n",
    "              'label': {'path_to_search': '~/niftynet/data/BRATS_examples/HGG',\n",
    "                        'filename_contains': 'Label'}}\n",
    "\n",
    "grouping_param = {'image': ('T1', 'T1c', 'T2', 'Flair'), 'label':('label',)}\n",
    "reader = ImageReader().initialise(data_param, grouping_param)\n",
    "\n",
    "# reader as a generator\n",
    "def image_label_pair_generator():\n",
    "    \"\"\"\n",
    "    A generator wrapper of an initialised reader.\n",
    "    \n",
    "    :yield: a dictionary of images (numpy arrays).\n",
    "    \"\"\"\n",
    "    while True:\n",
    "        _, image_data, _ = reader()\n",
    "        yield image_data\n",
    "\n",
    "# tensorflow dataset\n",
    "dataset = tf.data.Dataset.from_generator(\n",
    "    image_label_pair_generator,\n",
    "    output_types=reader.tf_dtypes)\n",
    "    #output_shapes=reader.shapes)\n",
    "dataset = dataset.batch(1)\n",
    "iterator = dataset.make_initializable_iterator()\n",
    "\n",
    "# run the tensorlfow graph\n",
    "with tf.Session() as sess:\n",
    "    sess.run(iterator.initializer)\n",
    "    for _ in range(3):\n",
    "        data_dict = sess.run(iterator.get_next())\n",
    "        print(data_dict.keys())\n",
    "        print('image: {}, label: {}'.format(\n",
    "            data_dict['image'].shape,\n",
    "            data_dict['label'].shape))"
   ]
  }
 ],
 "metadata": {
  "kernelspec": {
   "display_name": "Python 3",
   "language": "python",
   "name": "python3"
  },
  "language_info": {
   "codemirror_mode": {
    "name": "ipython",
    "version": 3
   },
   "file_extension": ".py",
   "mimetype": "text/x-python",
   "name": "python",
   "nbconvert_exporter": "python",
   "pygments_lexer": "ipython3",
   "version": "3.5.2"
  }
 },
 "nbformat": 4,
 "nbformat_minor": 2
}
